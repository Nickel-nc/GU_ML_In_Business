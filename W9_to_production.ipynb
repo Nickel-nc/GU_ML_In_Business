{
 "cells": [
  {
   "cell_type": "markdown",
   "metadata": {},
   "source": [
    "## Машинное обучение в бизнесе. Внедрение модели"
   ]
  },
  {
   "cell_type": "markdown",
   "metadata": {},
   "source": [
    "Создание веб-сервиса на Flask, синхронизация с моделью (разработанной в W7), формирование предсказания через post-запросы к сервису\n",
    "\n",
    "Сервис принимает новую запись и предсказывает результат прогнозирования наступления страхового случая"
   ]
  },
  {
   "cell_type": "code",
   "execution_count": 134,
   "metadata": {},
   "outputs": [],
   "source": [
    "import pandas as pd\n",
    "import h2o\n",
    "from flask_ngrok import run_with_ngrok\n",
    "from flask import Flask, request, jsonify\n",
    "import json\n",
    "import random\n",
    "import warnings\n",
    "import requests\n",
    "warnings.filterwarnings('ignore')\n",
    "random.seed(12345)"
   ]
  },
  {
   "cell_type": "code",
   "execution_count": 135,
   "metadata": {},
   "outputs": [
    {
     "name": "stdout",
     "output_type": "stream",
     "text": [
      "Checking whether there is an H2O instance running at http://localhost:54321 . connected.\n"
     ]
    },
    {
     "data": {
      "text/html": [
       "<div style=\"overflow:auto\"><table style=\"width:50%\"><tr><td>H2O cluster uptime:</td>\n",
       "<td>3 hours 48 mins</td></tr>\n",
       "<tr><td>H2O cluster timezone:</td>\n",
       "<td>Europe/Moscow</td></tr>\n",
       "<tr><td>H2O data parsing timezone:</td>\n",
       "<td>UTC</td></tr>\n",
       "<tr><td>H2O cluster version:</td>\n",
       "<td>3.28.0.3</td></tr>\n",
       "<tr><td>H2O cluster version age:</td>\n",
       "<td>12 days </td></tr>\n",
       "<tr><td>H2O cluster name:</td>\n",
       "<td>H2O_from_python_Nickel_q0jnch</td></tr>\n",
       "<tr><td>H2O cluster total nodes:</td>\n",
       "<td>1</td></tr>\n",
       "<tr><td>H2O cluster free memory:</td>\n",
       "<td>3.339 Gb</td></tr>\n",
       "<tr><td>H2O cluster total cores:</td>\n",
       "<td>8</td></tr>\n",
       "<tr><td>H2O cluster allowed cores:</td>\n",
       "<td>8</td></tr>\n",
       "<tr><td>H2O cluster status:</td>\n",
       "<td>locked, healthy</td></tr>\n",
       "<tr><td>H2O connection url:</td>\n",
       "<td>http://localhost:54321</td></tr>\n",
       "<tr><td>H2O connection proxy:</td>\n",
       "<td>{'http': None, 'https': None}</td></tr>\n",
       "<tr><td>H2O internal security:</td>\n",
       "<td>False</td></tr>\n",
       "<tr><td>H2O API Extensions:</td>\n",
       "<td>Amazon S3, Algos, AutoML, Core V3, TargetEncoder, Core V4</td></tr>\n",
       "<tr><td>Python version:</td>\n",
       "<td>3.7.1 final</td></tr></table></div>"
      ],
      "text/plain": [
       "--------------------------  ---------------------------------------------------------\n",
       "H2O cluster uptime:         3 hours 48 mins\n",
       "H2O cluster timezone:       Europe/Moscow\n",
       "H2O data parsing timezone:  UTC\n",
       "H2O cluster version:        3.28.0.3\n",
       "H2O cluster version age:    12 days\n",
       "H2O cluster name:           H2O_from_python_Nickel_q0jnch\n",
       "H2O cluster total nodes:    1\n",
       "H2O cluster free memory:    3.339 Gb\n",
       "H2O cluster total cores:    8\n",
       "H2O cluster allowed cores:  8\n",
       "H2O cluster status:         locked, healthy\n",
       "H2O connection url:         http://localhost:54321\n",
       "H2O connection proxy:       {'http': None, 'https': None}\n",
       "H2O internal security:      False\n",
       "H2O API Extensions:         Amazon S3, Algos, AutoML, Core V3, TargetEncoder, Core V4\n",
       "Python version:             3.7.1 final\n",
       "--------------------------  ---------------------------------------------------------"
      ]
     },
     "metadata": {},
     "output_type": "display_data"
    }
   ],
   "source": [
    "h2o.init()"
   ]
  },
  {
   "cell_type": "markdown",
   "metadata": {},
   "source": [
    "## Загрузка данных"
   ]
  },
  {
   "cell_type": "code",
   "execution_count": 136,
   "metadata": {},
   "outputs": [],
   "source": [
    "df = pd.read_csv('ensurance_data.csv', sep=',')\n",
    "\n",
    "# Настроечный блок\n",
    "\n",
    "TARGET = 'LicAge'\n",
    "X = df.drop(TARGET, axis=1)\n",
    "DATA_COLUMNS = X.columns # все столбцы\n",
    "# выборочные столбцы для тестирования сервиса\n",
    "COLS = ['Exposure', 'DrivAge', 'HasKmLimit', 'BonusMalus', 'ClaimInd', 'OutUseNb', 'RiskArea']\n",
    "MODEL_PATH = 'GLM_model_python_1581933695560_1' # Путь к сохраненной модели\n",
    "MAIN_LINK = 'http://7be957b9.ngrok.io/predict' # Ссылка динамически меняется"
   ]
  },
  {
   "cell_type": "code",
   "execution_count": 137,
   "metadata": {},
   "outputs": [],
   "source": [
    "\"\"\"Метод получения пустого H2O датафрейма под предсказание\"\"\"\n",
    "\n",
    "def return_new_H2O_DataFrame(cols):\n",
    "    l_shape = list('0' * len(cols))\n",
    "    return h2o.H2OFrame([l_shape], column_names = list(cols))\n",
    "\n",
    "\n",
    "\"\"\"Тестовый метод получения случайной записи\"\"\"\n",
    "\n",
    "def get_random_one_data_from_df(df):\n",
    "    # Случайный семпл в качестве входных данных для веб-сервиса\n",
    "    input_seed = random.randint(0, df.shape[0])\n",
    " \n",
    "    a = X.iloc[input_seed]\n",
    "    b = a.values.reshape(1,-1)\n",
    "    data = pd.DataFrame(b, columns = DATA_COLUMNS)\n",
    "    # h2o_data = h2o.H2OFrame(data)\n",
    "    \n",
    "    return data\n",
    "\n",
    "\n",
    "\"\"\"Метод получения предсказания\"\"\"\n",
    "\n",
    "def get_predict(data, model_path):\n",
    "    \n",
    "    # Получение предсказания из случайной записи тестового датасета\n",
    "    # data = get_h2o_data_from_df(data)\n",
    "    \n",
    "    # Загрузка модели, созданной в W7_data_preprocessing\n",
    "    model_glm = h2o.load_model(model_path)\n",
    "    \n",
    "    # Результат работы модели\n",
    "    prediction = model_glm.predict(data).as_data_frame()\n",
    "    pred_value = prediction['predict'][0]\n",
    "    \n",
    "    return pred_value\n",
    "\n",
    "\n",
    "\"\"\"Конвертация данных в json\"\"\"\n",
    "\n",
    "def get_json_from_random_one(df):\n",
    "    \n",
    "    df_ = get_random_one_data_from_df(df)  \n",
    "    \n",
    "    # df_ = df.as_data_frame() # для приема h2o фрейма\n",
    "    d = df_.to_dict(orient='records')\n",
    "    j = json.dumps(d)\n",
    "    res = json.loads(j)\n",
    "    \n",
    "    return res[0]\n",
    "\n",
    "def map_pred_result(pred):\n",
    "    pred = str(pred)\n",
    "    dict_pred = {'0':'Accept', '1':'Reject'}\n",
    "    res = dict_pred.get(pred)\n",
    "    \n",
    "    return res"
   ]
  },
  {
   "cell_type": "code",
   "execution_count": 138,
   "metadata": {},
   "outputs": [
    {
     "name": "stdout",
     "output_type": "stream",
     "text": [
      " * Serving Flask app \"__main__\" (lazy loading)\n",
      " * Environment: production\n",
      "   WARNING: This is a development server. Do not use it in a production deployment.\n",
      "   Use a production WSGI server instead.\n",
      " * Debug mode: off\n"
     ]
    },
    {
     "name": "stderr",
     "output_type": "stream",
     "text": [
      "INFO:werkzeug: * Running on http://127.0.0.1:5000/ (Press CTRL+C to quit)\n"
     ]
    },
    {
     "name": "stdout",
     "output_type": "stream",
     "text": [
      " * Running on http://7be957b9.ngrok.io\n",
      " * Traffic stats available on http://127.0.0.1:4040\n",
      "Parse progress: |█████████████████████████████████████████████████████████| 100%\n",
      "glm prediction progress: |████████████████████████████████████████████████| 100%\n"
     ]
    },
    {
     "name": "stderr",
     "output_type": "stream",
     "text": [
      "INFO:werkzeug:127.0.0.1 - - [18/Feb/2020 03:33:45] \"POST /predict HTTP/1.1\" 200 -\n"
     ]
    }
   ],
   "source": [
    "\"\"\"Запуск веб-сервиса на Flask\"\"\"\n",
    "\n",
    "app = Flask(__name__)\n",
    "run_with_ngrok(app)  # Start ngrok when app is run\n",
    "\n",
    "@app.route('/predict', methods=['GET', 'POST'])\n",
    "def predict_():\n",
    "    try:\n",
    "               \n",
    "        json_input = request.json\n",
    "        \n",
    "        # Формирование данных для запроса на сервис\n",
    "        Exposure = json_input['Exposure']\n",
    "        DrivAge = json_input['DrivAge']\n",
    "        HasKmLimit = json_input['HasKmLimit']\n",
    "        BonusMalus = json_input['BonusMalus']        \n",
    "        ClaimInd = json_input['ClaimInd']\n",
    "        OutUseNb = json_input['OutUseNb']\n",
    "        RiskArea = json_input['RiskArea']\n",
    "        \n",
    "        # h2o frame под предсказание\n",
    "        hf = return_new_H2O_DataFrame(COLS)\n",
    "        \n",
    "        hf[0, 'Exposure'] = Exposure\n",
    "        hf[0, 'DrivAge'] = DrivAge\n",
    "        hf[0, 'HasKmLimit'] = HasKmLimit\n",
    "        hf[0, 'BonusMalus'] = BonusMalus\n",
    "        hf[0, 'ClaimInd'] = ClaimInd\n",
    "        hf[0, 'OutUseNb'] = OutUseNb\n",
    "        hf[0, 'RiskArea'] = RiskArea\n",
    "        \n",
    "        # Получение ответа от модели\n",
    "        pred = int(get_predict(hf, model_path))\n",
    "        \n",
    "        # перевод числового предсказания в текстовый\n",
    "        pred = map_pred_result(pred)\n",
    "        \n",
    "        # Формат ответа\n",
    "        output = {\n",
    "            'Exposure':Exposure,\n",
    "            'DrivAge':DrivAge,\n",
    "            'HasKmLimit':HasKmLimit,\n",
    "            'BonusMalus':BonusMalus,\n",
    "            'ClaimInd':ClaimInd,\n",
    "            'OutUseNb':OutUseNb,\n",
    "            'RiskArea':RiskArea,\n",
    "            'Predict':pred\n",
    "        }\n",
    "        \n",
    "        return jsonify(output)\n",
    "    \n",
    "    except:\n",
    "      \n",
    "      return \"Something Goes Wrong\"    \n",
    "\n",
    "\n",
    "if __name__ == '__main__':\n",
    "    app.run()"
   ]
  },
  {
   "cell_type": "markdown",
   "metadata": {},
   "source": [
    "##### Тестовый запрос"
   ]
  },
  {
   "cell_type": "code",
   "execution_count": 148,
   "metadata": {},
   "outputs": [
    {
     "data": {
      "text/plain": [
       "{'Exposure': 0.307,\n",
       " 'DrivAge': 54.0,\n",
       " 'HasKmLimit': 0.0,\n",
       " 'BonusMalus': 50.0,\n",
       " 'ClaimAmount': 0.0,\n",
       " 'ClaimInd': 0.0,\n",
       " 'OutUseNb': 0.0,\n",
       " 'RiskArea': 6.0,\n",
       " 'VehUsage_Private': 0.0,\n",
       " 'VehUsage_Private+trip to office': 0.0,\n",
       " 'VehUsage_Professional': 1.0,\n",
       " 'VehUsage_Professional run': 0.0,\n",
       " 'SocioCateg_CSP1': 0.0,\n",
       " 'SocioCateg_CSP2': 0.0,\n",
       " 'SocioCateg_CSP3': 0.0,\n",
       " 'SocioCateg_CSP4': 1.0,\n",
       " 'SocioCateg_CSP5': 0.0,\n",
       " 'SocioCateg_CSP6': 0.0,\n",
       " 'SocioCateg_CSP7': 0.0,\n",
       " 'Exposure (^2)': 0.094249,\n",
       " 'Exposure (^3)': 0.028934443,\n",
       " 'Exposure (sqrt)': 0.5540758070878027,\n",
       " 'Exposure (log)': -1.18090753139494,\n",
       " 'Exposure (/ 2)': 0.1535,\n",
       " 'Exposure (/ 4)': 0.07675,\n",
       " 'DrivAge_diff1': 32.0,\n",
       " 'DrivAgeSq': 2916.0,\n",
       " 'ClaimsCount': 0.0}"
      ]
     },
     "execution_count": 148,
     "metadata": {},
     "output_type": "execute_result"
    }
   ],
   "source": [
    "post_data = get_json_from_random_one(df)\n",
    "\n",
    "post_data"
   ]
  },
  {
   "cell_type": "code",
   "execution_count": 149,
   "metadata": {},
   "outputs": [
    {
     "data": {
      "text/plain": [
       "'Формирование тестового запроса в python'"
      ]
     },
     "execution_count": 149,
     "metadata": {},
     "output_type": "execute_result"
    }
   ],
   "source": [
    "\"\"\"Формирование тестового запроса в python\"\"\"\n",
    "\n",
    "# req = requests.post(MAIN_LINK, json=post_data)\n",
    "# json_response = req.json()\n",
    "# print(json_response)"
   ]
  },
  {
   "cell_type": "markdown",
   "metadata": {},
   "source": [
    "Итоги:\n",
    "\n",
    "- Сервису можно скармливать любые json данные - главное, чтобы поля в input заполнялись\n",
    "- H2O модель корректно обрабатывает пропущенные поля, но относительно медленно работает (25 сек до ответа на запрос)"
   ]
  },
  {
   "cell_type": "code",
   "execution_count": null,
   "metadata": {},
   "outputs": [],
   "source": []
  }
 ],
 "metadata": {
  "kernelspec": {
   "display_name": "Python 3",
   "language": "python",
   "name": "python3"
  },
  "language_info": {
   "codemirror_mode": {
    "name": "ipython",
    "version": 3
   },
   "file_extension": ".py",
   "mimetype": "text/x-python",
   "name": "python",
   "nbconvert_exporter": "python",
   "pygments_lexer": "ipython3",
   "version": "3.7.1"
  }
 },
 "nbformat": 4,
 "nbformat_minor": 4
}
