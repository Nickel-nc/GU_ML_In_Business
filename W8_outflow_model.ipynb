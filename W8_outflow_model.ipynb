{
 "cells": [
  {
   "cell_type": "markdown",
   "metadata": {},
   "source": [
    "## Машинное обучение в бизнесе"
   ]
  },
  {
   "cell_type": "markdown",
   "metadata": {},
   "source": [
    "## Задание\n",
    "\n",
    "Построить модель градиентного бустинга для многоклассовой классификации для показателя RiskVar на 1 и 2 частях набора данных freMPL. Необходимо предобработать исходные данные (данные содержат ряд других категориальных признаков, не рассматривавшихся на занятиях). Оценить результаты построенного классификатора, выявить возможные проблемы. Попробовать улучшить результат и предложить способы решения обнаруженных проблем. Можно использовать различные методы для подбора гиперпараметров"
   ]
  },
  {
   "cell_type": "code",
   "execution_count": 18,
   "metadata": {},
   "outputs": [],
   "source": [
    "import pandas as pd\n",
    "import numpy as np\n",
    "import xgboost as xgb\n",
    "import matplotlib.pyplot as plt\n",
    "from sklearn.model_selection import train_test_split\n",
    "from sklearn.metrics import f1_score, accuracy_score, confusion_matrix\n",
    "from hyperopt import hp, tpe, space_eval\n",
    "from hyperopt.fmin import fmin\n",
    "import itertools"
   ]
  },
  {
   "cell_type": "markdown",
   "metadata": {},
   "source": [
    "## Обзор датасета <left><a class=\"anchor\" id=\"gen\"></a><left>"
   ]
  },
  {
   "cell_type": "code",
   "execution_count": 20,
   "metadata": {},
   "outputs": [
    {
     "name": "stdout",
     "output_type": "stream",
     "text": [
      "<class 'pandas.core.frame.DataFrame'>\n",
      "RangeIndex: 40732 entries, 0 to 40731\n",
      "Data columns (total 22 columns):\n",
      " #   Column       Non-Null Count  Dtype  \n",
      "---  ------       --------------  -----  \n",
      " 0   Exposure     40732 non-null  float64\n",
      " 1   LicAge       40732 non-null  int64  \n",
      " 2   RecordBeg    40732 non-null  object \n",
      " 3   RecordEnd    21616 non-null  object \n",
      " 4   VehAge       40732 non-null  object \n",
      " 5   Gender       40732 non-null  object \n",
      " 6   MariStat     40732 non-null  object \n",
      " 7   SocioCateg   40732 non-null  object \n",
      " 8   VehUsage     40732 non-null  object \n",
      " 9   DrivAge      40732 non-null  int64  \n",
      " 10  HasKmLimit   40732 non-null  int64  \n",
      " 11  BonusMalus   40732 non-null  int64  \n",
      " 12  VehBody      40732 non-null  object \n",
      " 13  VehPrice     40732 non-null  object \n",
      " 14  VehEngine    40732 non-null  object \n",
      " 15  VehEnergy    40732 non-null  object \n",
      " 16  VehMaxSpeed  40732 non-null  object \n",
      " 17  VehClass     40732 non-null  object \n",
      " 18  ClaimAmount  40732 non-null  float64\n",
      " 19  RiskVar      40732 non-null  float64\n",
      " 20  Garage       40732 non-null  object \n",
      " 21  ClaimInd     40732 non-null  int64  \n",
      "dtypes: float64(3), int64(5), object(14)\n",
      "memory usage: 6.8+ MB\n"
     ]
    }
   ],
   "source": [
    "# Загрузим набор данных\n",
    "\n",
    "df = pd.read_csv('freMPL-R.csv', low_memory=False)\n",
    "df = df.loc[df.Dataset.isin([1, 2])]\n",
    "df.drop('Dataset', axis=1, inplace=True)\n",
    "df.dropna(axis=1, how='all', inplace=True)\n",
    "df.drop_duplicates(inplace=True)\n",
    "df.reset_index(drop=True, inplace=True)\n",
    "df.info()"
   ]
  },
  {
   "cell_type": "markdown",
   "metadata": {},
   "source": [
    "В датасете есть переменная \"ClaimAmount\", с отрицательными значениями. Заметим, что для этой переменной целевое значение \"ClaimInd\" принимает только значение 0. Поэтому заменим все соответствующие значения \"ClaimAmount\" нулями."
   ]
  },
  {
   "cell_type": "code",
   "execution_count": 21,
   "metadata": {},
   "outputs": [
    {
     "name": "stdout",
     "output_type": "stream",
     "text": [
      "Unique values of ClaimInd: [0]\n"
     ]
    },
    {
     "data": {
      "text/html": [
       "<div>\n",
       "<style scoped>\n",
       "    .dataframe tbody tr th:only-of-type {\n",
       "        vertical-align: middle;\n",
       "    }\n",
       "\n",
       "    .dataframe tbody tr th {\n",
       "        vertical-align: top;\n",
       "    }\n",
       "\n",
       "    .dataframe thead th {\n",
       "        text-align: right;\n",
       "    }\n",
       "</style>\n",
       "<table border=\"1\" class=\"dataframe\">\n",
       "  <thead>\n",
       "    <tr style=\"text-align: right;\">\n",
       "      <th></th>\n",
       "      <th>ClaimAmount</th>\n",
       "      <th>ClaimInd</th>\n",
       "    </tr>\n",
       "  </thead>\n",
       "  <tbody>\n",
       "    <tr>\n",
       "      <th>231</th>\n",
       "      <td>-200.867674</td>\n",
       "      <td>0</td>\n",
       "    </tr>\n",
       "    <tr>\n",
       "      <th>404</th>\n",
       "      <td>-381.646224</td>\n",
       "      <td>0</td>\n",
       "    </tr>\n",
       "    <tr>\n",
       "      <th>568</th>\n",
       "      <td>-289.837160</td>\n",
       "      <td>0</td>\n",
       "    </tr>\n",
       "    <tr>\n",
       "      <th>794</th>\n",
       "      <td>-528.762236</td>\n",
       "      <td>0</td>\n",
       "    </tr>\n",
       "    <tr>\n",
       "      <th>822</th>\n",
       "      <td>-27.029003</td>\n",
       "      <td>0</td>\n",
       "    </tr>\n",
       "  </tbody>\n",
       "</table>\n",
       "</div>"
      ],
      "text/plain": [
       "     ClaimAmount  ClaimInd\n",
       "231  -200.867674         0\n",
       "404  -381.646224         0\n",
       "568  -289.837160         0\n",
       "794  -528.762236         0\n",
       "822   -27.029003         0"
      ]
     },
     "execution_count": 21,
     "metadata": {},
     "output_type": "execute_result"
    }
   ],
   "source": [
    "NegClaimAmount = df.loc[df.ClaimAmount < 0, ['ClaimAmount','ClaimInd']]\n",
    "print('Unique values of ClaimInd:', NegClaimAmount.ClaimInd.unique())\n",
    "NegClaimAmount.head()"
   ]
  },
  {
   "cell_type": "code",
   "execution_count": 22,
   "metadata": {},
   "outputs": [],
   "source": [
    "# Обнуление отрицательных значений\n",
    "\n",
    "df.loc[df.ClaimAmount < 0, 'ClaimAmount'] = 0"
   ]
  },
  {
   "cell_type": "code",
   "execution_count": 23,
   "metadata": {},
   "outputs": [],
   "source": [
    "df['SocioCateg'] = df.SocioCateg.str.slice(0,4)"
   ]
  },
  {
   "cell_type": "code",
   "execution_count": 24,
   "metadata": {},
   "outputs": [
    {
     "data": {
      "text/html": [
       "<div>\n",
       "<style scoped>\n",
       "    .dataframe tbody tr th:only-of-type {\n",
       "        vertical-align: middle;\n",
       "    }\n",
       "\n",
       "    .dataframe tbody tr th {\n",
       "        vertical-align: top;\n",
       "    }\n",
       "\n",
       "    .dataframe thead th {\n",
       "        text-align: right;\n",
       "    }\n",
       "</style>\n",
       "<table border=\"1\" class=\"dataframe\">\n",
       "  <thead>\n",
       "    <tr style=\"text-align: right;\">\n",
       "      <th></th>\n",
       "      <th>Frequency</th>\n",
       "    </tr>\n",
       "  </thead>\n",
       "  <tbody>\n",
       "    <tr>\n",
       "      <th>CSP9</th>\n",
       "      <td>10</td>\n",
       "    </tr>\n",
       "    <tr>\n",
       "      <th>CSP7</th>\n",
       "      <td>55</td>\n",
       "    </tr>\n",
       "    <tr>\n",
       "      <th>CSP3</th>\n",
       "      <td>837</td>\n",
       "    </tr>\n",
       "    <tr>\n",
       "      <th>CSP2</th>\n",
       "      <td>1476</td>\n",
       "    </tr>\n",
       "    <tr>\n",
       "      <th>CSP1</th>\n",
       "      <td>1975</td>\n",
       "    </tr>\n",
       "    <tr>\n",
       "      <th>CSP4</th>\n",
       "      <td>3279</td>\n",
       "    </tr>\n",
       "    <tr>\n",
       "      <th>CSP6</th>\n",
       "      <td>4885</td>\n",
       "    </tr>\n",
       "    <tr>\n",
       "      <th>CSP5</th>\n",
       "      <td>28215</td>\n",
       "    </tr>\n",
       "  </tbody>\n",
       "</table>\n",
       "</div>"
      ],
      "text/plain": [
       "      Frequency\n",
       "CSP9         10\n",
       "CSP7         55\n",
       "CSP3        837\n",
       "CSP2       1476\n",
       "CSP1       1975\n",
       "CSP4       3279\n",
       "CSP6       4885\n",
       "CSP5      28215"
      ]
     },
     "execution_count": 24,
     "metadata": {},
     "output_type": "execute_result"
    }
   ],
   "source": [
    "pd.DataFrame(df.SocioCateg.value_counts().sort_values()).rename({'SocioCateg': 'Frequency'}, axis=1)"
   ]
  },
  {
   "cell_type": "code",
   "execution_count": 25,
   "metadata": {},
   "outputs": [],
   "source": [
    "# one hot encoding преобразование для категорий VehUsage и SocioCateg\n",
    "df = pd.get_dummies(df, columns=['VehUsage','SocioCateg'])"
   ]
  },
  {
   "cell_type": "code",
   "execution_count": 26,
   "metadata": {},
   "outputs": [],
   "source": [
    "df = df.select_dtypes(exclude=['object'])"
   ]
  },
  {
   "cell_type": "code",
   "execution_count": 27,
   "metadata": {},
   "outputs": [],
   "source": [
    "# Производные признаки\n",
    "\n",
    "def get_deriv_feats(df, colname):\n",
    "    df[colname + ' (^2)'] = df[colname] ** 2\n",
    "    df[colname + ' (^3)'] = df[colname] ** 3\n",
    "    df[colname + ' (sqrt)'] = np.sqrt(df[colname])\n",
    "    df[colname + ' (log)'] = np.log(df[colname])\n",
    "    df[colname + ' (/ 2)'] = df[colname] / 2\n",
    "    df[colname + ' (/ 4)'] = df[colname] / 4\n",
    "    return df\n",
    "\n",
    "df = get_deriv_feats(df, 'Exposure')\n",
    "\n",
    "# Первая производная\n",
    "first_diff = np.array(df.iloc[1:,2].values - df.iloc[:-1,2].values).astype('float32') \n",
    "df['DrivAge_diff1'] = 0\n",
    "df['DrivAge_diff1'] =  df['DrivAge_diff1'].astype('float') \n",
    "df['DrivAge_diff1'].values[1:] = first_diff\n",
    "\n",
    "#  Переменная, квадрат возраста.\n",
    "df['DrivAgeSq'] = df.DrivAge.apply(lambda x: x**2)"
   ]
  },
  {
   "cell_type": "code",
   "execution_count": 28,
   "metadata": {},
   "outputs": [
    {
     "data": {
      "text/plain": [
       "Index(['Exposure', 'LicAge', 'DrivAge', 'HasKmLimit', 'BonusMalus',\n",
       "       'ClaimAmount', 'RiskVar', 'ClaimInd', 'VehUsage_Private',\n",
       "       'VehUsage_Private+trip to office', 'VehUsage_Professional',\n",
       "       'VehUsage_Professional run', 'SocioCateg_CSP1', 'SocioCateg_CSP2',\n",
       "       'SocioCateg_CSP3', 'SocioCateg_CSP4', 'SocioCateg_CSP5',\n",
       "       'SocioCateg_CSP6', 'SocioCateg_CSP7', 'SocioCateg_CSP9',\n",
       "       'Exposure (^2)', 'Exposure (^3)', 'Exposure (sqrt)', 'Exposure (log)',\n",
       "       'Exposure (/ 2)', 'Exposure (/ 4)', 'DrivAge_diff1', 'DrivAgeSq'],\n",
       "      dtype='object')"
      ]
     },
     "execution_count": 28,
     "metadata": {},
     "output_type": "execute_result"
    }
   ],
   "source": [
    "df.columns"
   ]
  },
  {
   "cell_type": "markdown",
   "metadata": {
    "colab_type": "text",
    "id": "iCZAeoll6xac"
   },
   "source": [
    "Для моделирования среднего убытка можем рассчитать его как отношение величины убытков к их частоте."
   ]
  },
  {
   "cell_type": "code",
   "execution_count": 31,
   "metadata": {},
   "outputs": [],
   "source": [
    "def SeriesFactorizer(series):\n",
    "    series, unique = pd.factorize(series)\n",
    "    reference = {x: i for x, i in enumerate(unique)}\n",
    "    print(reference)\n",
    "    return series, reference"
   ]
  },
  {
   "cell_type": "markdown",
   "metadata": {
    "colab_type": "text",
    "id": "2m1bibe9nMKp"
   },
   "source": [
    "XGBoost для многоклассовой классификации принимает на вход значения меток классов в виде `[0, num_classes]`. Поэтому, вычтем из значений переменной `RiskVar` единицу."
   ]
  },
  {
   "cell_type": "code",
   "execution_count": 32,
   "metadata": {},
   "outputs": [],
   "source": [
    "df.RiskVar -= 1"
   ]
  },
  {
   "cell_type": "markdown",
   "metadata": {
    "colab_type": "text",
    "id": "Nqre5rvZxL-N"
   },
   "source": [
    "Данная переменная принимает значения от 1 до 20, которые, возможно, упорядочены. Посмотрим, сколько полисов соответствуют каждому из значений `RiskVar`, используя метод `groupby`. Для полученных значений также посчитаем нормированную частоту."
   ]
  },
  {
   "cell_type": "code",
   "execution_count": 33,
   "metadata": {},
   "outputs": [],
   "source": [
    "FreqCount = pd.DataFrame(df.RiskVar.value_counts()).rename({'RiskVar': 'Count'}, axis=1)\n",
    "mx = FreqCount.Count.max()\n",
    "FreqCount['Freq'] = FreqCount.Count / mx"
   ]
  },
  {
   "cell_type": "code",
   "execution_count": 34,
   "metadata": {},
   "outputs": [
    {
     "data": {
      "image/png": "[encoded data removed]",
      "text/plain": [
       "<Figure size 432x288 with 1 Axes>"
      ]
     },
     "metadata": {
      "needs_background": "light"
     },
     "output_type": "display_data"
    }
   ],
   "source": [
    "FreqCount.Freq.plot(kind='bar')\n",
    "plt.ylabel('Frequency')\n",
    "plt.show()"
   ]
  },
  {
   "cell_type": "code",
   "execution_count": 35,
   "metadata": {},
   "outputs": [
    {
     "data": {
      "text/html": [
       "<div>\n",
       "<style scoped>\n",
       "    .dataframe tbody tr th:only-of-type {\n",
       "        vertical-align: middle;\n",
       "    }\n",
       "\n",
       "    .dataframe tbody tr th {\n",
       "        vertical-align: top;\n",
       "    }\n",
       "\n",
       "    .dataframe thead th {\n",
       "        text-align: right;\n",
       "    }\n",
       "</style>\n",
       "<table border=\"1\" class=\"dataframe\">\n",
       "  <thead>\n",
       "    <tr style=\"text-align: right;\">\n",
       "      <th></th>\n",
       "      <th>Count</th>\n",
       "      <th>Freq</th>\n",
       "    </tr>\n",
       "  </thead>\n",
       "  <tbody>\n",
       "    <tr>\n",
       "      <th>15.0</th>\n",
       "      <td>4906</td>\n",
       "      <td>1.000000</td>\n",
       "    </tr>\n",
       "    <tr>\n",
       "      <th>14.0</th>\n",
       "      <td>4625</td>\n",
       "      <td>0.942723</td>\n",
       "    </tr>\n",
       "    <tr>\n",
       "      <th>16.0</th>\n",
       "      <td>3444</td>\n",
       "      <td>0.701998</td>\n",
       "    </tr>\n",
       "    <tr>\n",
       "      <th>19.0</th>\n",
       "      <td>2894</td>\n",
       "      <td>0.589890</td>\n",
       "    </tr>\n",
       "    <tr>\n",
       "      <th>18.0</th>\n",
       "      <td>2773</td>\n",
       "      <td>0.565226</td>\n",
       "    </tr>\n",
       "    <tr>\n",
       "      <th>12.0</th>\n",
       "      <td>2719</td>\n",
       "      <td>0.554219</td>\n",
       "    </tr>\n",
       "    <tr>\n",
       "      <th>17.0</th>\n",
       "      <td>2614</td>\n",
       "      <td>0.532817</td>\n",
       "    </tr>\n",
       "    <tr>\n",
       "      <th>10.0</th>\n",
       "      <td>2533</td>\n",
       "      <td>0.516307</td>\n",
       "    </tr>\n",
       "    <tr>\n",
       "      <th>11.0</th>\n",
       "      <td>2445</td>\n",
       "      <td>0.498369</td>\n",
       "    </tr>\n",
       "    <tr>\n",
       "      <th>13.0</th>\n",
       "      <td>2096</td>\n",
       "      <td>0.427232</td>\n",
       "    </tr>\n",
       "    <tr>\n",
       "      <th>6.0</th>\n",
       "      <td>1634</td>\n",
       "      <td>0.333062</td>\n",
       "    </tr>\n",
       "    <tr>\n",
       "      <th>7.0</th>\n",
       "      <td>1439</td>\n",
       "      <td>0.293314</td>\n",
       "    </tr>\n",
       "    <tr>\n",
       "      <th>9.0</th>\n",
       "      <td>1314</td>\n",
       "      <td>0.267835</td>\n",
       "    </tr>\n",
       "    <tr>\n",
       "      <th>8.0</th>\n",
       "      <td>1170</td>\n",
       "      <td>0.238483</td>\n",
       "    </tr>\n",
       "    <tr>\n",
       "      <th>4.0</th>\n",
       "      <td>979</td>\n",
       "      <td>0.199552</td>\n",
       "    </tr>\n",
       "    <tr>\n",
       "      <th>5.0</th>\n",
       "      <td>902</td>\n",
       "      <td>0.183857</td>\n",
       "    </tr>\n",
       "    <tr>\n",
       "      <th>2.0</th>\n",
       "      <td>660</td>\n",
       "      <td>0.134529</td>\n",
       "    </tr>\n",
       "    <tr>\n",
       "      <th>3.0</th>\n",
       "      <td>603</td>\n",
       "      <td>0.122911</td>\n",
       "    </tr>\n",
       "    <tr>\n",
       "      <th>0.0</th>\n",
       "      <td>531</td>\n",
       "      <td>0.108235</td>\n",
       "    </tr>\n",
       "    <tr>\n",
       "      <th>1.0</th>\n",
       "      <td>451</td>\n",
       "      <td>0.091928</td>\n",
       "    </tr>\n",
       "  </tbody>\n",
       "</table>\n",
       "</div>"
      ],
      "text/plain": [
       "      Count      Freq\n",
       "15.0   4906  1.000000\n",
       "14.0   4625  0.942723\n",
       "16.0   3444  0.701998\n",
       "19.0   2894  0.589890\n",
       "18.0   2773  0.565226\n",
       "12.0   2719  0.554219\n",
       "17.0   2614  0.532817\n",
       "10.0   2533  0.516307\n",
       "11.0   2445  0.498369\n",
       "13.0   2096  0.427232\n",
       "6.0    1634  0.333062\n",
       "7.0    1439  0.293314\n",
       "9.0    1314  0.267835\n",
       "8.0    1170  0.238483\n",
       "4.0     979  0.199552\n",
       "5.0     902  0.183857\n",
       "2.0     660  0.134529\n",
       "3.0     603  0.122911\n",
       "0.0     531  0.108235\n",
       "1.0     451  0.091928"
      ]
     },
     "execution_count": 35,
     "metadata": {},
     "output_type": "execute_result"
    }
   ],
   "source": [
    "FreqCount"
   ]
  },
  {
   "cell_type": "markdown",
   "metadata": {},
   "source": [
    "Заметим, что в данном случае присутствует проблема несбалансированности классов. Поэтому, для того, чтобы по возможности избежать ее, воспользуемся взвешиванием наблюдений для обучения модели. Для этого в исходном наборе данных создадим столбец `weight`. Присвоим ему некоторые значения, например, можно задать `0.5` для значений `RiskVar` 14 и 15, а для остальных - 1 (Для этого можем использовать функцию `np.where` и метод `isin` для `pandas.Series`). Также можно попробовать какой-либо другой способ задания весов."
   ]
  },
  {
   "cell_type": "code",
   "execution_count": 39,
   "metadata": {},
   "outputs": [
    {
     "data": {
      "text/html": [
       "<div>\n",
       "<style scoped>\n",
       "    .dataframe tbody tr th:only-of-type {\n",
       "        vertical-align: middle;\n",
       "    }\n",
       "\n",
       "    .dataframe tbody tr th {\n",
       "        vertical-align: top;\n",
       "    }\n",
       "\n",
       "    .dataframe thead th {\n",
       "        text-align: right;\n",
       "    }\n",
       "</style>\n",
       "<table border=\"1\" class=\"dataframe\">\n",
       "  <thead>\n",
       "    <tr style=\"text-align: right;\">\n",
       "      <th></th>\n",
       "      <th>Exposure</th>\n",
       "      <th>LicAge</th>\n",
       "      <th>DrivAge</th>\n",
       "      <th>HasKmLimit</th>\n",
       "      <th>BonusMalus</th>\n",
       "      <th>ClaimAmount</th>\n",
       "      <th>RiskVar</th>\n",
       "      <th>ClaimInd</th>\n",
       "      <th>VehUsage_Private</th>\n",
       "      <th>VehUsage_Private+trip to office</th>\n",
       "      <th>...</th>\n",
       "      <th>SocioCateg_CSP9</th>\n",
       "      <th>Exposure (^2)</th>\n",
       "      <th>Exposure (^3)</th>\n",
       "      <th>Exposure (sqrt)</th>\n",
       "      <th>Exposure (log)</th>\n",
       "      <th>Exposure (/ 2)</th>\n",
       "      <th>Exposure (/ 4)</th>\n",
       "      <th>DrivAge_diff1</th>\n",
       "      <th>DrivAgeSq</th>\n",
       "      <th>weight</th>\n",
       "    </tr>\n",
       "  </thead>\n",
       "  <tbody>\n",
       "    <tr>\n",
       "      <th>0</th>\n",
       "      <td>0.583</td>\n",
       "      <td>366</td>\n",
       "      <td>55</td>\n",
       "      <td>0</td>\n",
       "      <td>72</td>\n",
       "      <td>0.000000</td>\n",
       "      <td>14.0</td>\n",
       "      <td>0</td>\n",
       "      <td>0</td>\n",
       "      <td>0</td>\n",
       "      <td>...</td>\n",
       "      <td>0</td>\n",
       "      <td>0.339889</td>\n",
       "      <td>0.198155</td>\n",
       "      <td>0.763544</td>\n",
       "      <td>-0.539568</td>\n",
       "      <td>0.2915</td>\n",
       "      <td>0.14575</td>\n",
       "      <td>0.0</td>\n",
       "      <td>3025</td>\n",
       "      <td>0.6</td>\n",
       "    </tr>\n",
       "    <tr>\n",
       "      <th>1</th>\n",
       "      <td>0.200</td>\n",
       "      <td>187</td>\n",
       "      <td>34</td>\n",
       "      <td>0</td>\n",
       "      <td>80</td>\n",
       "      <td>0.000000</td>\n",
       "      <td>19.0</td>\n",
       "      <td>0</td>\n",
       "      <td>0</td>\n",
       "      <td>1</td>\n",
       "      <td>...</td>\n",
       "      <td>0</td>\n",
       "      <td>0.040000</td>\n",
       "      <td>0.008000</td>\n",
       "      <td>0.447214</td>\n",
       "      <td>-1.609438</td>\n",
       "      <td>0.1000</td>\n",
       "      <td>0.05000</td>\n",
       "      <td>-21.0</td>\n",
       "      <td>1156</td>\n",
       "      <td>1.0</td>\n",
       "    </tr>\n",
       "    <tr>\n",
       "      <th>2</th>\n",
       "      <td>0.083</td>\n",
       "      <td>169</td>\n",
       "      <td>33</td>\n",
       "      <td>0</td>\n",
       "      <td>63</td>\n",
       "      <td>0.000000</td>\n",
       "      <td>16.0</td>\n",
       "      <td>0</td>\n",
       "      <td>0</td>\n",
       "      <td>0</td>\n",
       "      <td>...</td>\n",
       "      <td>0</td>\n",
       "      <td>0.006889</td>\n",
       "      <td>0.000572</td>\n",
       "      <td>0.288097</td>\n",
       "      <td>-2.488915</td>\n",
       "      <td>0.0415</td>\n",
       "      <td>0.02075</td>\n",
       "      <td>-1.0</td>\n",
       "      <td>1089</td>\n",
       "      <td>1.0</td>\n",
       "    </tr>\n",
       "    <tr>\n",
       "      <th>3</th>\n",
       "      <td>0.375</td>\n",
       "      <td>170</td>\n",
       "      <td>34</td>\n",
       "      <td>0</td>\n",
       "      <td>63</td>\n",
       "      <td>0.000000</td>\n",
       "      <td>16.0</td>\n",
       "      <td>0</td>\n",
       "      <td>0</td>\n",
       "      <td>0</td>\n",
       "      <td>...</td>\n",
       "      <td>0</td>\n",
       "      <td>0.140625</td>\n",
       "      <td>0.052734</td>\n",
       "      <td>0.612372</td>\n",
       "      <td>-0.980829</td>\n",
       "      <td>0.1875</td>\n",
       "      <td>0.09375</td>\n",
       "      <td>1.0</td>\n",
       "      <td>1156</td>\n",
       "      <td>1.0</td>\n",
       "    </tr>\n",
       "    <tr>\n",
       "      <th>4</th>\n",
       "      <td>0.500</td>\n",
       "      <td>224</td>\n",
       "      <td>53</td>\n",
       "      <td>0</td>\n",
       "      <td>72</td>\n",
       "      <td>1418.610272</td>\n",
       "      <td>18.0</td>\n",
       "      <td>1</td>\n",
       "      <td>0</td>\n",
       "      <td>0</td>\n",
       "      <td>...</td>\n",
       "      <td>0</td>\n",
       "      <td>0.250000</td>\n",
       "      <td>0.125000</td>\n",
       "      <td>0.707107</td>\n",
       "      <td>-0.693147</td>\n",
       "      <td>0.2500</td>\n",
       "      <td>0.12500</td>\n",
       "      <td>19.0</td>\n",
       "      <td>2809</td>\n",
       "      <td>1.0</td>\n",
       "    </tr>\n",
       "  </tbody>\n",
       "</table>\n",
       "<p>5 rows × 29 columns</p>\n",
       "</div>"
      ],
      "text/plain": [
       "   Exposure  LicAge  DrivAge  HasKmLimit  BonusMalus  ClaimAmount  RiskVar  \\\n",
       "0     0.583     366       55           0          72     0.000000     14.0   \n",
       "1     0.200     187       34           0          80     0.000000     19.0   \n",
       "2     0.083     169       33           0          63     0.000000     16.0   \n",
       "3     0.375     170       34           0          63     0.000000     16.0   \n",
       "4     0.500     224       53           0          72  1418.610272     18.0   \n",
       "\n",
       "   ClaimInd  VehUsage_Private  VehUsage_Private+trip to office  ...  \\\n",
       "0         0                 0                                0  ...   \n",
       "1         0                 0                                1  ...   \n",
       "2         0                 0                                0  ...   \n",
       "3         0                 0                                0  ...   \n",
       "4         1                 0                                0  ...   \n",
       "\n",
       "   SocioCateg_CSP9  Exposure (^2)  Exposure (^3)  Exposure (sqrt)  \\\n",
       "0                0       0.339889       0.198155         0.763544   \n",
       "1                0       0.040000       0.008000         0.447214   \n",
       "2                0       0.006889       0.000572         0.288097   \n",
       "3                0       0.140625       0.052734         0.612372   \n",
       "4                0       0.250000       0.125000         0.707107   \n",
       "\n",
       "   Exposure (log)  Exposure (/ 2)  Exposure (/ 4)  DrivAge_diff1  DrivAgeSq  \\\n",
       "0       -0.539568          0.2915         0.14575            0.0       3025   \n",
       "1       -1.609438          0.1000         0.05000          -21.0       1156   \n",
       "2       -2.488915          0.0415         0.02075           -1.0       1089   \n",
       "3       -0.980829          0.1875         0.09375            1.0       1156   \n",
       "4       -0.693147          0.2500         0.12500           19.0       2809   \n",
       "\n",
       "   weight  \n",
       "0     0.6  \n",
       "1     1.0  \n",
       "2     1.0  \n",
       "3     1.0  \n",
       "4     1.0  \n",
       "\n",
       "[5 rows x 29 columns]"
      ]
     },
     "execution_count": 39,
     "metadata": {},
     "output_type": "execute_result"
    }
   ],
   "source": [
    "df['weight'] = 1\n",
    "df.loc[df.RiskVar.isin([14, 15]), 'weight'] = 0.6\n",
    "df.head()"
   ]
  },
  {
   "cell_type": "markdown",
   "metadata": {},
   "source": [
    "## Train test split <left><a class=\"anchor\" id=\"gen\"></a><left>"
   ]
  },
  {
   "cell_type": "markdown",
   "metadata": {
    "colab_type": "text",
    "id": "sAlGTL0hBpNv"
   },
   "source": [
    "Разобьем имеющийся набор данных на обучающую, валидационную и тестовую выборки в отношениях 70%/15%/15% соответственно. Зададим зерно для случайного разбиения равным 10."
   ]
  },
  {
   "cell_type": "code",
   "execution_count": 40,
   "metadata": {},
   "outputs": [],
   "source": [
    "x_train, x_test, y_train, y_test = train_test_split(df.drop(['RiskVar'], axis=1), df.RiskVar, test_size=0.3)\n",
    "x_valid, x_test, y_valid, y_test = train_test_split(x_test, y_test, test_size=0.5)"
   ]
  },
  {
   "cell_type": "markdown",
   "metadata": {
    "colab_type": "text",
    "id": "PCySK2zQKsUI"
   },
   "source": [
    "Далее, создадим объекты `DMatrix` для обучающей, валидационной и тестовой выборок. Для обучающей выборки также укажем параметр `weight` равным полученному ранее столбцу весов. Данный столбец также нужно исключить из объекта передаваемого в параметр `data`."
   ]
  },
  {
   "cell_type": "code",
   "execution_count": 41,
   "metadata": {},
   "outputs": [],
   "source": [
    "xgb_train = xgb.DMatrix(x_train.drop(['weight'], axis=1), y_train, weight=x_train['weight'])\n",
    "xgb_valid = xgb.DMatrix(x_valid.drop(['weight'], axis=1), y_valid)\n",
    "xgb_test = xgb.DMatrix(x_test.drop(['weight'], axis=1), y_test)"
   ]
  },
  {
   "cell_type": "markdown",
   "metadata": {
    "colab_type": "text",
    "id": "N__wZRJLaMfs"
   },
   "source": [
    "Для оптимизации гиперпараметров можно воспользоваться различными методами. Однако, в случае Hyperopt, на процесс подбора гиперпараметров может уйти немалое количество часов."
   ]
  },
  {
   "cell_type": "code",
   "execution_count": 42,
   "metadata": {},
   "outputs": [],
   "source": [
    "def objective(params):\n",
    "    parameters = {\n",
    "        'objective': 'multi:softmax',\n",
    "        'num_class': 20,\n",
    "        'max_depth':  int(params['max_depth']),\n",
    "        'min_child_weight': params['min_child_weight'],\n",
    "        'subsample': params['subsample'],\n",
    "        'colsample_bytree': params['colsample_bytree'],\n",
    "        'eta': params['eta'],\n",
    "        'alpha': params['alpha'],\n",
    "        'lambda': params['lambda']\n",
    "    }\n",
    "    \n",
    "    cv_result = xgb.cv(parameters, xgb_train, \n",
    "                       num_boost_round=int(params['num_boost_round']), \n",
    "                       nfold=3, seed=0, maximize=False, early_stopping_rounds=10)\n",
    "    score = cv_result['test-merror-mean'][-1:].values[0]\n",
    "    return score"
   ]
  },
  {
   "cell_type": "code",
   "execution_count": null,
   "metadata": {},
   "outputs": [
    {
     "name": "stdout",
     "output_type": "stream",
     "text": [
      "  6%|██▉                                              | 3/50 [03:08<45:18, 57.83s/trial, best loss: 0.8583069999999999]"
     ]
    }
   ],
   "source": [
    "space = {'num_boost_round': hp.choice('num_boost_round', [50, 100]),\n",
    "         'max_depth': hp.choice('max_depth', [5, 10, 15]),\n",
    "         'min_child_weight': hp.uniform('min_child_weight', 0, 1),\n",
    "         'subsample': hp.uniform('subsample', 0.5, 1),\n",
    "         'colsample_bytree': hp.uniform('colsample_bytree', 0.5, 1),\n",
    "         'alpha': hp.uniform('alpha', 0, 1),\n",
    "         'lambda': hp.uniform('lambda', 0, 1),\n",
    "         'eta': hp.uniform('eta', 0.01, 1)\n",
    "        }\n",
    "best = fmin(fn=objective, space=space, algo=tpe.suggest, max_evals=50)"
   ]
  },
  {
   "cell_type": "markdown",
   "metadata": {
    "colab_type": "text",
    "id": "_3bTqctcR84Z"
   },
   "source": [
    "Далее обучим нашу модель с оптимальными параметрами"
   ]
  },
  {
   "cell_type": "code",
   "execution_count": null,
   "metadata": {},
   "outputs": [],
   "source": [
    "best_params = space_eval(space, best)\n",
    "best_params['objective'] = 'multi:softmax'\n",
    "best_params['num_class'] = 20\n",
    "best_params"
   ]
  },
  {
   "cell_type": "code",
   "execution_count": null,
   "metadata": {},
   "outputs": [],
   "source": [
    "xgb_risk = xgb.train(num_boost_round=int(best_params.pop('num_boost_round')),\n",
    "                     params=best_params, dtrain=xgb_train,\n",
    "                     evals=[(xgb_train, \"train\"),(xgb_valid, \"valid\")],\n",
    "                     maximize=False, early_stopping_rounds=10, verbose_eval=True)"
   ]
  },
  {
   "cell_type": "code",
   "execution_count": null,
   "metadata": {},
   "outputs": [],
   "source": [
    "dfsets = [{'set': 'train', 'dmat': xgb_train, 'target': y_train},\n",
    "          {'set': 'valid', 'dmat': xgb_valid, 'target': y_valid},\n",
    "          {'set': 'test', 'dmat': xgb_test, 'target': y_test}]\n",
    "\n",
    "for dfset in dfsets:\n",
    "    class_preds = xgb_risk.predict(dfset['dmat']) # Посчитаем предсказанные значения\n",
    "    print('F1 Score on ' + str(dfset['set'])+':', f1_score(dfset['target'], class_preds, average='micro')) # Посчитаем F1 Score"
   ]
  },
  {
   "cell_type": "code",
   "execution_count": null,
   "metadata": {},
   "outputs": [],
   "source": [
    "plt.subplots(1,3, figsize=(15,3))\n",
    "for i in range(len(dfsets)):\n",
    "    confmatrix = confusion_matrix(dfsets[i]['target'], xgb_multiclass.predict(dfsets[i]['dmat']))\n",
    "    plt.subplot(1,3,i+1)\n",
    "    plt.imshow(confmatrix, cmap='Greys')\n",
    "    plt.colorbar()\n",
    "    plt.ylabel('True')\n",
    "    plt.xlabel('Predicted')\n",
    "plt.show()"
   ]
  }
 ],
 "metadata": {
  "kernelspec": {
   "display_name": "Python 3",
   "language": "python",
   "name": "python3"
  },
  "language_info": {
   "codemirror_mode": {
    "name": "ipython",
    "version": 3
   },
   "file_extension": ".py",
   "mimetype": "text/x-python",
   "name": "python",
   "nbconvert_exporter": "python",
   "pygments_lexer": "ipython3",
   "version": "3.7.1"
  }
 },
 "nbformat": 4,
 "nbformat_minor": 4
}
